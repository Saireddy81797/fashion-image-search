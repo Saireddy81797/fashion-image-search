import os
import numpy as np
import torch
import clip
from PIL import Image
import pickle

# Load CLIP
device = "cuda" if torch.cuda.is_available() else "cpu"
model, preprocess = clip.load("ViT-B/32", device=device)

# Dataset folder
image_folder = "../data/sample_images/"
image_files = [f for f in os.listdir(image_folder) if f.endswith((".jpg",".png",".jpeg"))]

embeddings = []
paths = []

for img_file in image_files:
    img_path = os.path.join(image_folder, img_file)
    image = preprocess(Image.open(img_path)).unsqueeze(0).to(device)
    with torch.no_grad():
        emb = model.encode_image(image).cpu().numpy()
    embeddings.append(emb[0])
    paths.append(img_file)

embeddings = np.array(embeddings).astype("float32")

# Save embeddings
np.save("../models/image_embeddings.npy", embeddings)
with open("../models/image_paths.pkl", "wb") as f:
    pickle.dump(paths, f)
