import numpy as np
import faiss
import pickle

# Load embeddings
embeddings = np.load("../models/image_embeddings.npy")
with open("../models/image_paths.pkl", "rb") as f:
    image_paths = pickle.load(f)

# Build FAISS index
dim = embeddings.shape[1]
index = faiss.IndexFlatL2(dim)
index.add(embeddings)

# Save index
faiss.write_index(index, "../models/faiss_index.bin")

print("✅ FAISS index built and saved!")
